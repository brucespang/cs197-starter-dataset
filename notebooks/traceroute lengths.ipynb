{
 "cells": [
  {
   "cell_type": "code",
   "execution_count": 17,
   "id": "hollow-flight",
   "metadata": {},
   "outputs": [],
   "source": [
    "import matplotlib.pyplot as plt\n",
    "import pandas as pd\n",
    "import numpy as np\n",
    "import os"
   ]
  },
  {
   "cell_type": "code",
   "execution_count": 59,
   "id": "optional-career",
   "metadata": {},
   "outputs": [],
   "source": [
    "import trparse\n",
    "import pyasn"
   ]
  },
  {
   "cell_type": "code",
   "execution_count": 26,
   "id": "cardiac-brother",
   "metadata": {},
   "outputs": [],
   "source": [
    "traceroutes = []\n",
    "dirs = ['local', 'cloud']\n",
    "for dirname in dirs:\n",
    "    for fname in os.listdir(f'../{dirname}'):\n",
    "        if 'traceroute' not in fname: continue\n",
    "        file = open(f'../{dirname}/{fname}').read()\n",
    "        try:\n",
    "            traceroutes.append((dirname, fname, trparse.loads(file)))\n",
    "        except:\n",
    "            print(f\"couldn't parse {dirname}/{fname}\")"
   ]
  },
  {
   "cell_type": "code",
   "execution_count": 28,
   "id": "promotional-circle",
   "metadata": {},
   "outputs": [
    {
     "data": {
      "text/html": [
       "<div>\n",
       "<style scoped>\n",
       "    .dataframe tbody tr th:only-of-type {\n",
       "        vertical-align: middle;\n",
       "    }\n",
       "\n",
       "    .dataframe tbody tr th {\n",
       "        vertical-align: top;\n",
       "    }\n",
       "\n",
       "    .dataframe thead th {\n",
       "        text-align: right;\n",
       "    }\n",
       "</style>\n",
       "<table border=\"1\" class=\"dataframe\">\n",
       "  <thead>\n",
       "    <tr style=\"text-align: right;\">\n",
       "      <th></th>\n",
       "      <th>location</th>\n",
       "      <th>filename</th>\n",
       "      <th>dest_hostname</th>\n",
       "      <th>dest_ip</th>\n",
       "      <th>num_hops</th>\n",
       "      <th>hop_idx</th>\n",
       "      <th>probe_idx</th>\n",
       "      <th>probe_asn</th>\n",
       "      <th>probe_ip</th>\n",
       "      <th>probe_hostname</th>\n",
       "      <th>probe_rtt_ms</th>\n",
       "    </tr>\n",
       "  </thead>\n",
       "  <tbody>\n",
       "    <tr>\n",
       "      <th>0</th>\n",
       "      <td>local</td>\n",
       "      <td>4_traceroute_vm.txt</td>\n",
       "      <td>34.101.125.224</td>\n",
       "      <td>34.101.125.224</td>\n",
       "      <td>30</td>\n",
       "      <td>1</td>\n",
       "      <td>0</td>\n",
       "      <td>NaN</td>\n",
       "      <td>192.168.176.1</td>\n",
       "      <td>DESKTOP-L128SDR.mshome.net</td>\n",
       "      <td>0.504</td>\n",
       "    </tr>\n",
       "    <tr>\n",
       "      <th>1</th>\n",
       "      <td>local</td>\n",
       "      <td>4_traceroute_vm.txt</td>\n",
       "      <td>34.101.125.224</td>\n",
       "      <td>34.101.125.224</td>\n",
       "      <td>30</td>\n",
       "      <td>1</td>\n",
       "      <td>1</td>\n",
       "      <td>NaN</td>\n",
       "      <td>192.168.176.1</td>\n",
       "      <td>DESKTOP-L128SDR.mshome.net</td>\n",
       "      <td>0.483</td>\n",
       "    </tr>\n",
       "    <tr>\n",
       "      <th>2</th>\n",
       "      <td>local</td>\n",
       "      <td>4_traceroute_vm.txt</td>\n",
       "      <td>34.101.125.224</td>\n",
       "      <td>34.101.125.224</td>\n",
       "      <td>30</td>\n",
       "      <td>1</td>\n",
       "      <td>2</td>\n",
       "      <td>NaN</td>\n",
       "      <td>192.168.176.1</td>\n",
       "      <td>DESKTOP-L128SDR.mshome.net</td>\n",
       "      <td>0.477</td>\n",
       "    </tr>\n",
       "    <tr>\n",
       "      <th>3</th>\n",
       "      <td>local</td>\n",
       "      <td>4_traceroute_vm.txt</td>\n",
       "      <td>34.101.125.224</td>\n",
       "      <td>34.101.125.224</td>\n",
       "      <td>30</td>\n",
       "      <td>2</td>\n",
       "      <td>0</td>\n",
       "      <td>NaN</td>\n",
       "      <td>192.168.1.1</td>\n",
       "      <td>192.168.1.1</td>\n",
       "      <td>4.421</td>\n",
       "    </tr>\n",
       "    <tr>\n",
       "      <th>4</th>\n",
       "      <td>local</td>\n",
       "      <td>4_traceroute_vm.txt</td>\n",
       "      <td>34.101.125.224</td>\n",
       "      <td>34.101.125.224</td>\n",
       "      <td>30</td>\n",
       "      <td>2</td>\n",
       "      <td>1</td>\n",
       "      <td>NaN</td>\n",
       "      <td>192.168.1.1</td>\n",
       "      <td>192.168.1.1</td>\n",
       "      <td>4.584</td>\n",
       "    </tr>\n",
       "    <tr>\n",
       "      <th>...</th>\n",
       "      <td>...</td>\n",
       "      <td>...</td>\n",
       "      <td>...</td>\n",
       "      <td>...</td>\n",
       "      <td>...</td>\n",
       "      <td>...</td>\n",
       "      <td>...</td>\n",
       "      <td>...</td>\n",
       "      <td>...</td>\n",
       "      <td>...</td>\n",
       "      <td>...</td>\n",
       "    </tr>\n",
       "    <tr>\n",
       "      <th>723</th>\n",
       "      <td>cloud</td>\n",
       "      <td>2_traceroute_www.ru.ac.za.txt</td>\n",
       "      <td>vhost.ru.ac.za</td>\n",
       "      <td>146.231.128.43</td>\n",
       "      <td>9</td>\n",
       "      <td>2</td>\n",
       "      <td>0</td>\n",
       "      <td>NaN</td>\n",
       "      <td>None</td>\n",
       "      <td>None</td>\n",
       "      <td>None</td>\n",
       "    </tr>\n",
       "    <tr>\n",
       "      <th>724</th>\n",
       "      <td>cloud</td>\n",
       "      <td>2_traceroute_www.ru.ac.za.txt</td>\n",
       "      <td>vhost.ru.ac.za</td>\n",
       "      <td>146.231.128.43</td>\n",
       "      <td>9</td>\n",
       "      <td>3</td>\n",
       "      <td>0</td>\n",
       "      <td>NaN</td>\n",
       "      <td>None</td>\n",
       "      <td>None</td>\n",
       "      <td>None</td>\n",
       "    </tr>\n",
       "    <tr>\n",
       "      <th>725</th>\n",
       "      <td>cloud</td>\n",
       "      <td>2_traceroute_www.ru.ac.za.txt</td>\n",
       "      <td>vhost.ru.ac.za</td>\n",
       "      <td>146.231.128.43</td>\n",
       "      <td>9</td>\n",
       "      <td>4</td>\n",
       "      <td>0</td>\n",
       "      <td>NaN</td>\n",
       "      <td>None</td>\n",
       "      <td>None</td>\n",
       "      <td>None</td>\n",
       "    </tr>\n",
       "    <tr>\n",
       "      <th>726</th>\n",
       "      <td>cloud</td>\n",
       "      <td>2_traceroute_www.ru.ac.za.txt</td>\n",
       "      <td>vhost.ru.ac.za</td>\n",
       "      <td>146.231.128.43</td>\n",
       "      <td>9</td>\n",
       "      <td>5</td>\n",
       "      <td>0</td>\n",
       "      <td>NaN</td>\n",
       "      <td>None</td>\n",
       "      <td>None</td>\n",
       "      <td>None</td>\n",
       "    </tr>\n",
       "    <tr>\n",
       "      <th>727</th>\n",
       "      <td>cloud</td>\n",
       "      <td>2_traceroute_www.ru.ac.za.txt</td>\n",
       "      <td>vhost.ru.ac.za</td>\n",
       "      <td>146.231.128.43</td>\n",
       "      <td>9</td>\n",
       "      <td>6</td>\n",
       "      <td>0</td>\n",
       "      <td>NaN</td>\n",
       "      <td>None</td>\n",
       "      <td>None</td>\n",
       "      <td>None</td>\n",
       "    </tr>\n",
       "  </tbody>\n",
       "</table>\n",
       "<p>728 rows × 11 columns</p>\n",
       "</div>"
      ],
      "text/plain": [
       "    location                       filename   dest_hostname         dest_ip  \\\n",
       "0      local            4_traceroute_vm.txt  34.101.125.224  34.101.125.224   \n",
       "1      local            4_traceroute_vm.txt  34.101.125.224  34.101.125.224   \n",
       "2      local            4_traceroute_vm.txt  34.101.125.224  34.101.125.224   \n",
       "3      local            4_traceroute_vm.txt  34.101.125.224  34.101.125.224   \n",
       "4      local            4_traceroute_vm.txt  34.101.125.224  34.101.125.224   \n",
       "..       ...                            ...             ...             ...   \n",
       "723    cloud  2_traceroute_www.ru.ac.za.txt  vhost.ru.ac.za  146.231.128.43   \n",
       "724    cloud  2_traceroute_www.ru.ac.za.txt  vhost.ru.ac.za  146.231.128.43   \n",
       "725    cloud  2_traceroute_www.ru.ac.za.txt  vhost.ru.ac.za  146.231.128.43   \n",
       "726    cloud  2_traceroute_www.ru.ac.za.txt  vhost.ru.ac.za  146.231.128.43   \n",
       "727    cloud  2_traceroute_www.ru.ac.za.txt  vhost.ru.ac.za  146.231.128.43   \n",
       "\n",
       "     num_hops  hop_idx  probe_idx  probe_asn       probe_ip  \\\n",
       "0          30        1          0        NaN  192.168.176.1   \n",
       "1          30        1          1        NaN  192.168.176.1   \n",
       "2          30        1          2        NaN  192.168.176.1   \n",
       "3          30        2          0        NaN    192.168.1.1   \n",
       "4          30        2          1        NaN    192.168.1.1   \n",
       "..        ...      ...        ...        ...            ...   \n",
       "723         9        2          0        NaN           None   \n",
       "724         9        3          0        NaN           None   \n",
       "725         9        4          0        NaN           None   \n",
       "726         9        5          0        NaN           None   \n",
       "727         9        6          0        NaN           None   \n",
       "\n",
       "                 probe_hostname probe_rtt_ms  \n",
       "0    DESKTOP-L128SDR.mshome.net        0.504  \n",
       "1    DESKTOP-L128SDR.mshome.net        0.483  \n",
       "2    DESKTOP-L128SDR.mshome.net        0.477  \n",
       "3                   192.168.1.1        4.421  \n",
       "4                   192.168.1.1        4.584  \n",
       "..                          ...          ...  \n",
       "723                        None         None  \n",
       "724                        None         None  \n",
       "725                        None         None  \n",
       "726                        None         None  \n",
       "727                        None         None  \n",
       "\n",
       "[728 rows x 11 columns]"
      ]
     },
     "execution_count": 28,
     "metadata": {},
     "output_type": "execute_result"
    }
   ],
   "source": [
    "results = []\n",
    "for (dirname, fname, traceroute) in traceroutes:\n",
    "    for hop in traceroute.hops:\n",
    "        for i,probe in enumerate(hop.probes):\n",
    "            results.append({\n",
    "                'location': dirname,\n",
    "                'filename': fname,\n",
    "                'dest_hostname': traceroute.dest_name,\n",
    "                'dest_ip': traceroute.dest_ip,\n",
    "                'num_hops': len(traceroute.hops),\n",
    "                'hop_idx': hop.idx,\n",
    "                'probe_idx': i,\n",
    "                'probe_asn': probe.asn,\n",
    "                'probe_ip': probe.ip,\n",
    "                'probe_hostname': probe.name,\n",
    "                'probe_rtt_ms': probe.rtt\n",
    "            })\n",
    "\n",
    "results = pd.DataFrame(results)        \n",
    "results"
   ]
  },
  {
   "cell_type": "code",
   "execution_count": 30,
   "id": "contained-utility",
   "metadata": {},
   "outputs": [
    {
     "data": {
      "text/plain": [
       "<matplotlib.legend.Legend at 0x12bcd1130>"
      ]
     },
     "execution_count": 30,
     "metadata": {},
     "output_type": "execute_result"
    },
    {
     "data": {
      "image/png": "[encoded data removed]",
      "text/plain": [
       "<Figure size 432x288 with 1 Axes>"
      ]
     },
     "metadata": {
      "needs_background": "light"
     },
     "output_type": "display_data"
    }
   ],
   "source": [
    "for location, ldf in results.groupby('location'):\n",
    "    plt.scatter(ldf.hop_idx, ldf.probe_rtt_ms, label=location)\n",
    "plt.xlabel(\"Hop ID\")\n",
    "plt.ylabel(\"RTT (ms)\")\n",
    "plt.legend(loc='best')"
   ]
  },
  {
   "cell_type": "code",
   "execution_count": 35,
   "id": "piano-germany",
   "metadata": {},
   "outputs": [
    {
     "data": {
      "text/plain": [
       "(array([25., 13., 14.,  0.,  1.,  0.,  0.,  0.,  0., 68.]),\n",
       " array([ 9. , 10.5, 12. , 13.5, 15. , 16.5, 18. , 19.5, 21. , 22.5, 24. ]),\n",
       " <BarContainer object of 10 artists>)"
      ]
     },
     "execution_count": 35,
     "metadata": {},
     "output_type": "execute_result"
    },
    {
     "data": {
      "image/png": "[encoded data removed]",
      "text/plain": [
       "<Figure size 432x288 with 1 Axes>"
      ]
     },
     "metadata": {
      "needs_background": "light"
     },
     "output_type": "display_data"
    }
   ],
   "source": [
    "plt.hist(results[results.dest_ip == '146.231.128.43'].num_hops)"
   ]
  },
  {
   "cell_type": "code",
   "execution_count": 58,
   "id": "detected-playing",
   "metadata": {},
   "outputs": [
    {
     "data": {
      "text/plain": [
       "(array([ 0,  1,  2,  3,  4,  5,  6,  7,  8,  9, 10]),\n",
       " [Text(0, 0, '32.0'),\n",
       "  Text(1, 0, '2018.0'),\n",
       "  Text(2, 0, '2152.0'),\n",
       "  Text(3, 0, '3356.0'),\n",
       "  Text(4, 0, '5713.0'),\n",
       "  Text(5, 0, '6421.0'),\n",
       "  Text(6, 0, '11537.0'),\n",
       "  Text(7, 0, '15169.0'),\n",
       "  Text(8, 0, '20115.0'),\n",
       "  Text(9, 0, '37271.0'),\n",
       "  Text(10, 0, '37520.0')])"
      ]
     },
     "execution_count": 58,
     "metadata": {},
     "output_type": "execute_result"
    },
    {
     "data": {
      "image/png": "[encoded data removed]",
      "text/plain": [
       "<Figure size 576x288 with 1 Axes>"
      ]
     },
     "metadata": {
      "needs_background": "light"
     },
     "output_type": "display_data"
    }
   ],
   "source": [
    "import seaborn as sns\n",
    "plt.figure(figsize=(8,4))\n",
    "by_asn = results.groupby('probe_asn', as_index=False).count()\n",
    "by_asn = by_asn.rename(columns={'probe_rtt_ms': 'num_probes'})\n",
    "sns.barplot(data=by_asn, x='probe_asn', y='num_probes')\n",
    "plt.ylabel(\"# of probes\")\n",
    "plt.xlabel(\"ASN\")\n",
    "plt.xticks(rotation=45)"
   ]
  },
  {
   "cell_type": "code",
   "execution_count": 63,
   "id": "advisory-ground",
   "metadata": {},
   "outputs": [
    {
     "data": {
      "text/plain": [
       "pyasn(ipasndb:'../ipasn.db'; asnames:'None') - 1025620 prefixes"
      ]
     },
     "execution_count": 63,
     "metadata": {},
     "output_type": "execute_result"
    }
   ],
   "source": [
    "asndb = pyasn.pyasn('../ipasn.db')\n",
    "asndb"
   ]
  },
  {
   "cell_type": "code",
   "execution_count": 65,
   "id": "laughing-belfast",
   "metadata": {},
   "outputs": [
    {
     "ename": "Exception",
     "evalue": "Autonomous system names not loaded during initialization",
     "output_type": "error",
     "traceback": [
      "\u001b[0;31m---------------------------------------------------------------------------\u001b[0m",
      "\u001b[0;31mException\u001b[0m                                 Traceback (most recent call last)",
      "\u001b[0;32m<ipython-input-65-4c83eb1d6079>\u001b[0m in \u001b[0;36m<module>\u001b[0;34m\u001b[0m\n\u001b[0;32m----> 1\u001b[0;31m \u001b[0masndb\u001b[0m\u001b[0;34m.\u001b[0m\u001b[0mget_as_name\u001b[0m\u001b[0;34m(\u001b[0m\u001b[0;36m20115\u001b[0m\u001b[0;34m)\u001b[0m\u001b[0;34m\u001b[0m\u001b[0;34m\u001b[0m\u001b[0m\n\u001b[0m",
      "\u001b[0;32m/usr/local/lib/python3.9/site-packages/pyasn/__init__.py\u001b[0m in \u001b[0;36mget_as_name\u001b[0;34m(self, asn)\u001b[0m\n\u001b[1;32m    156\u001b[0m         \"\"\"\n\u001b[1;32m    157\u001b[0m         \u001b[0;32mif\u001b[0m \u001b[0;32mnot\u001b[0m \u001b[0mself\u001b[0m\u001b[0;34m.\u001b[0m\u001b[0m_asnames\u001b[0m\u001b[0;34m:\u001b[0m\u001b[0;34m\u001b[0m\u001b[0;34m\u001b[0m\u001b[0m\n\u001b[0;32m--> 158\u001b[0;31m             \u001b[0;32mraise\u001b[0m \u001b[0mException\u001b[0m\u001b[0;34m(\u001b[0m\u001b[0;34m\"Autonomous system names not loaded during initialization\"\u001b[0m\u001b[0;34m)\u001b[0m\u001b[0;34m\u001b[0m\u001b[0;34m\u001b[0m\u001b[0m\n\u001b[0m\u001b[1;32m    159\u001b[0m         \u001b[0;32mreturn\u001b[0m \u001b[0mself\u001b[0m\u001b[0;34m.\u001b[0m\u001b[0m_asnames\u001b[0m\u001b[0;34m.\u001b[0m\u001b[0mget\u001b[0m\u001b[0;34m(\u001b[0m\u001b[0masn\u001b[0m\u001b[0;34m,\u001b[0m \u001b[0;32mNone\u001b[0m\u001b[0;34m)\u001b[0m\u001b[0;34m\u001b[0m\u001b[0;34m\u001b[0m\u001b[0m\n\u001b[1;32m    160\u001b[0m \u001b[0;34m\u001b[0m\u001b[0m\n",
      "\u001b[0;31mException\u001b[0m: Autonomous system names not loaded during initialization"
     ]
    }
   ],
   "source": [
    "asndb.get_as_name(20115)"
   ]
  },
  {
   "cell_type": "code",
   "execution_count": null,
   "id": "small-wings",
   "metadata": {},
   "outputs": [],
   "source": []
  }
 ],
 "metadata": {
  "kernelspec": {
   "display_name": "Python 3",
   "language": "python",
   "name": "python3"
  },
  "language_info": {
   "codemirror_mode": {
    "name": "ipython",
    "version": 3
   },
   "file_extension": ".py",
   "mimetype": "text/x-python",
   "name": "python",
   "nbconvert_exporter": "python",
   "pygments_lexer": "ipython3",
   "version": "3.9.2"
  }
 },
 "nbformat": 4,
 "nbformat_minor": 5
}
